{
  "nbformat": 4,
  "nbformat_minor": 0,
  "metadata": {
    "colab": {
      "provenance": [],
      "authorship_tag": "ABX9TyOE9QL1diF5VQ6cXTZoDdFU",
      "include_colab_link": true
    },
    "kernelspec": {
      "name": "python3",
      "display_name": "Python 3"
    },
    "language_info": {
      "name": "python"
    }
  },
  "cells": [
    {
      "cell_type": "markdown",
      "metadata": {
        "id": "view-in-github",
        "colab_type": "text"
      },
      "source": [
        "<a href=\"https://colab.research.google.com/github/mqquiroz/HUCLAM/blob/main/Dise%C3%B1o_Hidraulico_HUCLAM.ipynb\" target=\"_parent\"><img src=\"https://colab.research.google.com/assets/colab-badge.svg\" alt=\"Open In Colab\"/></a>"
      ]
    },
    {
      "cell_type": "code",
      "source": [
        "import numpy as np\n",
        "import matplotlib.pyplot as plt\n",
        "\n",
        "#Constantes\n",
        "g     = 9.81\n",
        "rho   = 1000\n",
        "gamma = rho*g\n",
        "nu    = 1e-6"
      ],
      "metadata": {
        "id": "DvjelPjNTRQX"
      },
      "execution_count": 73,
      "outputs": []
    },
    {
      "cell_type": "markdown",
      "source": [],
      "metadata": {
        "id": "iwu4uxfAH1mo"
      }
    },
    {
      "cell_type": "markdown",
      "source": [
        "##Proyecto HUCLAM:Solución basada en la naturaleza para mitigar el impacto negativo de las descargas de agua mixta (residual + lluvia) en cuerpos hídricos naturales\n",
        "\n",
        "### Concurso IDeA I+D 2022"
      ],
      "metadata": {
        "id": "T0l6O_JOsgGk"
      }
    },
    {
      "cell_type": "markdown",
      "source": [
        "#### Tiempo de descarga desde un tanque cilíndrico"
      ],
      "metadata": {
        "id": "XcU4V3djHiJI"
      }
    },
    {
      "cell_type": "code",
      "source": [
        "#Tiempo de Descarga, Drenaje de un tanque Cilindrico\n",
        "#Supuestos:\n",
        "#Fluido Inviscido\n",
        "#Siguiendo uan linea de corriente\n",
        "#Fluido Incompresible\n",
        "\n",
        "#Inputs\n",
        "#Altura inicial (cota) del tanque Cilindrico\n",
        "h0 = 3.0 #(m)\n",
        "#Altura final (cota) de la tubería de descarga\n",
        "hf = 0.0 #(m)\n",
        "#Diametro del Tanque\n",
        "D1 = 1.8 #(m)\n",
        "#Diámetro de la tuberia de descarga\n",
        "D2 = 63/1000 #(m) - 63 mm (PVC)\n",
        "\n",
        "\n",
        "#------------------------------------------------------\n",
        "t = (2/np.sqrt(2*g))* ((D1/D2)**2) * ( np.sqrt(h0) - np.sqrt(hf)) #(sec)\n",
        "t = t/(60) #(min)\n",
        "\n",
        "print('El tiempo de vaciado es: ',np.round(t,2),' min')"
      ],
      "metadata": {
        "colab": {
          "base_uri": "https://localhost:8080/"
        },
        "id": "jAwZC5sOTA0Y",
        "outputId": "024f0c12-8099-439e-8f44-ca59a7dd1887"
      },
      "execution_count": 120,
      "outputs": [
        {
          "output_type": "stream",
          "name": "stdout",
          "text": [
            "El tiempo de vaciado es:  10.64  min\n"
          ]
        }
      ]
    },
    {
      "cell_type": "markdown",
      "source": [
        "#### Diámetros de orificios"
      ],
      "metadata": {
        "id": "m91Un5ozHrEP"
      }
    },
    {
      "cell_type": "code",
      "source": [
        "#Inputs\n",
        "\n",
        "#Caudales por unidad de área requeridos\n",
        "q = np.array([0.01, 0.03, 0.05]) #(lt/s*m2)\n",
        "#Area seccion cuadrada\n",
        "A = 2.4*2.4 #(m2)\n",
        "#Volumen estanque\n",
        "Vol = 3000 #(litros)\n",
        "h0 = 0.3 + 0.8 #(m)\n",
        "hf = 0.0 #(m)\n",
        "#diametro (asumido) estanque\n",
        "D1 = 2.4 #(m)\n",
        "\n",
        "#-------------------------\n",
        "\n",
        "\n",
        "Q = q*A #(lt/s)\n",
        "t = Vol/Q\n",
        "D2 = D1/np.sqrt( (np.sqrt(2*g)*t/2)*(1/( np.sqrt(h0) - np.sqrt(hf))))\n",
        "\n",
        "\n",
        "D2 = D2*1000 #(mm)\n",
        "\n",
        "print('Los Diámetros de orificios son: ',np.round(D2,2),' mm')"
      ],
      "metadata": {
        "colab": {
          "base_uri": "https://localhost:8080/"
        },
        "id": "QaVB1GnM0eZ2",
        "outputId": "7776762d-0e5e-49fd-9b87-31897e8f671b"
      },
      "execution_count": 117,
      "outputs": [
        {
          "output_type": "stream",
          "name": "stdout",
          "text": [
            "Los Diámetros de orificios son:  [ 7.24 12.53 16.18]  mm\n"
          ]
        }
      ]
    },
    {
      "cell_type": "markdown",
      "source": [
        "#### Diseño Vertedero Triangular"
      ],
      "metadata": {
        "id": "wEskwZeQHl4S"
      }
    },
    {
      "cell_type": "code",
      "execution_count": 144,
      "metadata": {
        "colab": {
          "base_uri": "https://localhost:8080/",
          "height": 479
        },
        "id": "fFo2Vi4psflP",
        "outputId": "5d224dab-9378-448f-aa59-b10943cf22de"
      },
      "outputs": [
        {
          "output_type": "display_data",
          "data": {
            "text/plain": [
              "<Figure size 1440x540 with 3 Axes>"
            ],
            "image/png": "[encoded data removed]"
          },
          "metadata": {
            "needs_background": "light"
          }
        }
      ],
      "source": [
        "#Cálculo de Vertedero de Pared Delgada. \n",
        "#Vertedero de Perfil Triangular\n",
        "#Ecuación de descarga: Q = m*tan(theta/2)*sqrt(2g)*H^(5/2)\n",
        "#El coeficiente del gasto es estimado utilizando la reación dada por Hegly (1921)\n",
        "# m = (0.31 + 0.002/H)\n",
        "\n",
        "#INPUTS\n",
        "#angulo de apertura del vertedero\n",
        "theta = 45   #(deg)\n",
        "#longitud vertical base justo debajo del vertedero\n",
        "Lv = 0.25 #(m)\n",
        "\n",
        "\n",
        "#---------------------------------------------------------\n",
        "Hmin  = 0.01 #(m)\n",
        "Hmax  = 0.4-Lv  #(m) \n",
        "H = np.arange(Hmin,Hmax+Hmin,Hmin)\n",
        "m = 0.31 + (0.002/H)\n",
        "\n",
        "Q = m*np.tan((theta/2)*np.pi/180)*np.sqrt(2*g)*(H**(5/2))\n",
        "\n",
        "fig, ax = plt.subplots(1,2,figsize=(20,7.5))\n",
        "\n",
        "ax2 = ax[0].twinx()  \n",
        "ax2.set_ylim(0,0.001*1000)# np.max(Q)*1000)\n",
        "ax2.set_ylabel('Q (Litros/s)',fontsize=15)\n",
        "\n",
        "ax[0].plot(H,Q,'b')\n",
        "ax[0].set_xlim(0,Hmax)\n",
        "ax[0].set_ylim(0,0.001)#np.max(Q))\n",
        "ax[0].set_xlabel('H (m)',fontsize=15)\n",
        "ax[0].set_ylabel('Q (m3/s)',fontsize=15)\n",
        "ax[0].grid()\n",
        "\n",
        "\n",
        "#Dibujo\n",
        "x2 = (0.4-Lv)*np.tan((theta/2)*np.pi/180)\n",
        "x = 2*x2\n",
        "\n",
        "delta = (1-(2*x))/2\n",
        "\n",
        "x_coords = [0, 1,   1, 1-delta, 0.5, delta,   0, 0]\n",
        "y_coords = [0, 0, 0.4,     0.4, Lv,   0.4, 0.4, 0]\n",
        "\n",
        "ax[1].plot(x_coords,y_coords,'k')\n",
        "ax[1].fill_between(x_coords,y_coords, color='grey', alpha=0.5)\n",
        "ax[1].set_xlabel('Dimensiones (m)',fontsize=15)\n",
        "ax[1].set_ylabel('Dimensiones (m)',fontsize=15)\n",
        "\n",
        "ax[0].axhline(y=0.0576/1000, color=\"red\",linestyle=\"--\")\n",
        "ax[0].axhline(y=0.288/1000, color=\"red\",linestyle=\"--\")\n",
        "\n",
        "ax[0].set_xlim(0,0.1)\n",
        "\n",
        "plt.show()"
      ]
    },
    {
      "cell_type": "markdown",
      "source": [
        "#### Sistema de Impulsión (Bombeo)"
      ],
      "metadata": {
        "id": "lBwdXwHYHOpo"
      }
    },
    {
      "cell_type": "markdown",
      "source": [
        "Planteamos la ecuación de Bernoulli entre la superficie libre del estanque y la salida de la tubería.\n",
        "\n",
        "$$ B_{1} = B_{2} + \\Delta h_{f} - H_{B} $$\n",
        "\n",
        "$$\\frac{P_{1}}{\\gamma} + \\frac{U_{1}^{2}}{2g} + z_{1} = \\frac{P_{2}}{\\gamma} + \\frac{U_{2}^{2}}{2g} + z_{2} + f\\frac{L}{D_{2}}\\frac{U_{2}^{2}}{2g}- H_{B}$$\n",
        "\n",
        "$$H_{B} = \\frac{U_{2}^{2}}{2g} + z_{2} + f\\frac{L}{D_{2}}\\frac{U_{2}^{2}}{2g} $$\n",
        "\n",
        "Usando $Q = U\\cdot A $:\n",
        "\n",
        "$$H_{B} = \\frac{Q_{2}^{2}}{2gA_{2}^{2}} + z_{2} + \\frac{8fL}{D_{2}^{5}\\pi^{2}} Q^{2}$$\n",
        "\n",
        "$$H_{B} = \\frac{Q_{2}^{2}}{2gA_{2}^{2}} + (\\Delta H + H_{e}) + \\frac{8fL}{D_{2}^{5}\\pi^{2}} Q^{2}$$\n",
        "\n",
        "Potencia Hidráulica: \n",
        "\n",
        "$$POT_{hid} = \\gamma Q H_{B} $$\n",
        "\n",
        "Potencia de Freno (Brake Horsepower):\n",
        "$$POT_{BHP} = \\frac{POT_{hid}}{\\eta}$$"
      ],
      "metadata": {
        "id": "yq2zC7Qrs0Uu"
      }
    },
    {
      "cell_type": "code",
      "source": [
        "#Cálculo de in sistema de impulsión\n",
        "#Potencia de Bomba Requerida\n",
        "\n",
        "\n",
        "#Inputs\n",
        "#Caudal de diseño\n",
        "Q      = 1 #(lt/s)\n",
        "#Diferencia de cota entre bomba (captación) y estanque\n",
        "deltaH = 3 #(m)\n",
        "#Altura del estanque de almacenamiento\n",
        "H_e    = 1.9 #(m) \n",
        "#Diámetro tubería de impulsión \n",
        "D2    = 63/1000 #(m) - 63 mm (PVC)\n",
        "#Longitud (distancia) del tramo a cubrir \n",
        "L      = 170 #(m)\n",
        "#Rugosidad absoluta (Plastico, PVC)\n",
        "e = 0.0015/1000 #(m)\n",
        "#Eficiencia de la bomba \n",
        "eta = 60/100 #(%)\n",
        "\n",
        "#------------------------------------------------------------------------------\n",
        "Q = Q/1000 #(m3/s)\n",
        "U = Q/(np.pi*(D2**2)/4)\n",
        "\n",
        "Rey = U*D2/nu\n",
        "\n",
        "\n",
        "\n",
        "\n",
        "#Método de Newton-Raphson\n",
        "# Para encontrar el factor de friccion en funcion de e/D y Re\n",
        "def NewtonRhapson(e_D,Re):\n",
        "  x0 = 0.03\n",
        "  for i in range(50):\n",
        "    if x0 <= 0:\n",
        "      xx = np.nan\n",
        "      break\n",
        "    f = 1/np.sqrt(x0) + 2*np.log10((e_D/3.7)+(2.51/(Re*np.sqrt(x0)))) \n",
        "    fprima = -1/np.sqrt(x0**3) - ( (2.51/(Re*np.sqrt(x0**3)))/( (e_D/3.7) + (2.51/(Re*np.sqrt(x0))) )  )*np.log10(np.exp(1))\n",
        "    dxx = -f/fprima\n",
        "    if np.abs(dxx/x0) < 1e-6:\n",
        "      xx = x0\n",
        "      break\n",
        "    #elif np.isnan(dxx):\n",
        "    #  xx = np.nan\n",
        "    #  break \n",
        "    x0 = x0 + dxx\n",
        "  return xx  \n",
        "\n",
        "\n",
        "f = NewtonRhapson(e/D2,Rey)\n",
        "\n",
        "\n",
        "Hb = ((2*(Q**2))/(g*(np.pi**2)*(D2**4))) + (deltaH+H_e) + 8*f*L*(Q**2)/((D2**5)*(np.pi**2)) #(m)\n",
        "\n",
        "Pot_hid = gamma*Hb*Q #(Watts)\n",
        "Pot_BHP = Pot_hid/eta #(Watts)\n",
        "\n",
        "#1 HP = 0,746 kW\n",
        "Pot_BHP = Pot_BHP/746\n",
        "\n",
        "\n",
        "\n",
        "print('La potencia requerida es: ',np.round(Pot_BHP,2),' HP')"
      ],
      "metadata": {
        "colab": {
          "base_uri": "https://localhost:8080/"
        },
        "id": "3D0doWY4bJCC",
        "outputId": "394e4fdd-058e-4d36-92b7-cc86ef76b2fd"
      },
      "execution_count": 122,
      "outputs": [
        {
          "output_type": "stream",
          "name": "stdout",
          "text": [
            "La potencia requerida es:  0.19  HP\n"
          ]
        }
      ]
    }
  ]
}